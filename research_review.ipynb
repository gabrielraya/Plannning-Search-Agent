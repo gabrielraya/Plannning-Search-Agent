{
 "cells": [
  {
   "cell_type": "markdown",
   "metadata": {},
   "source": [
    "# Research Review: Historical developments in the field of AI planning and search"
   ]
  },
  {
   "cell_type": "markdown",
   "metadata": {},
   "source": [
    "Important historical developments in the field of AI planning and search are presented in this document. three of these developments, highlighting the relationships between the developments and their impact on the field of AI as a whole.\n",
    "\n"
   ]
  },
  {
   "cell_type": "markdown",
   "metadata": {},
   "source": [
    "# References\n",
    "\n",
    "[1] S.J. Russell and P Norvig, Artificial Intelligence: A Modern Approach (Prentice Hall, Englewood\n",
    "Cliffs, NJ, 2010) Third Edition. "
   ]
  }
 ],
 "metadata": {
  "kernelspec": {
   "display_name": "Python 3",
   "language": "python",
   "name": "python3"
  },
  "language_info": {
   "codemirror_mode": {
    "name": "ipython",
    "version": 3
   },
   "file_extension": ".py",
   "mimetype": "text/x-python",
   "name": "python",
   "nbconvert_exporter": "python",
   "pygments_lexer": "ipython3",
   "version": "3.6.1"
  }
 },
 "nbformat": 4,
 "nbformat_minor": 2
}
