{
 "cells": [
  {
   "cell_type": "markdown",
   "metadata": {},
   "source": [
    "Important historical developments in the field of AI planning and search are presented in this document. three of these developments, highlighting the relationships between the developments and their impact on the field of AI as a whole.\n",
    "\n"
   ]
  },
  {
   "cell_type": "markdown",
   "metadata": {},
   "source": [
    "# STRIPS\n",
    "\n",
    "STRIPS is considered to be the first major planning system in the whole history of AI, as a member of the class of problem solvers its main function is to achieved a sucessful path to a given goal.  \"STRIPS (Stanford Research Institute Problem Solver) was used in conjuction with robot research SRI\". **[\\[2\\]](#references)**.  It was invented by Fikes and Nilsson in 1971. \n",
    "\n",
    "&nbsp;\n",
    "\n",
    "&nbsp;\n",
    "\n",
    "<center>![STRIPS](Images/shakey.jpeg)</center>\n",
    "<center>Sven Wahlstrom and Nils Nilsson with Shakey</center>\n",
    "&nbsp;\n",
    "\n",
    "The most remarkable impact that STRIPS had in the field of AI is the representation language it used to solve the search problems by that time, which served as the foundation for what we know now as PDDL (Problem Domain Description Language)- standard language for the International Planning Competition since 1998- introduced by Ghallab in 1998, as a computer-parsable, standarized syntax for representing planning problems. Therefore, it gave rise to what we know as *Classical Planning* and all its related concepts (Planning Graph, pattern databases for planning heuristics, GRAPHPLAN system, and many more).\n",
    "&nbsp;\n",
    "\n",
    "\"AI planning arose from investigations into state-space, theorem proving, and control theory and from the practical needs of robotics, scheduling, and other domains\".**[\\[1\\]](#references)** \n",
    "\n",
    "\n",
    "# FF Hoffmann\n",
    "\n",
    "\"Fast-forward (FF) was the most successful automatic planner in the Fifth International Conference on Artificial Intelligence Planning and Scheduling (AIPS '00) planning systems competition. Like the well-known hsp system, FF relies on forward search in the state space, guided by a heuristic that estimates goal distances by ignoring delete lists. It differs from HSP in a number of important details\".**[\\[3\\]](#references)**\n",
    "\n",
    "State-space planning \"Pioneered by Drew McDermott’s UNPOP program (1996), which was the first to suggest the ignore-delete-list heuristic\". It was the result for the reaction to the overwhelming concentration on partial-order planning\".**[\\[1\\]](#references)** created the environment appropiated to the development of the **FF**. \n",
    "\n",
    "State-space planning helps to develop new methods to achieved admissible heuristic functions.\n",
    "\n",
    "\n",
    "# Graphplan\n",
    " \n",
    "\"Graphplan is an algorithm for automated planning developed by Avrim Blum and Merrick Furst in 1995. Graphplan takes as input a planning problem expressed in STRIPS and produces, if one is possible, a sequence of operations for reaching a goal state\". **[\\[4\\]](#references)**\n",
    "\n",
    "As we can see it was STRIPS that allowed the development of this new algorithm. Graphplan \n",
    "\n",
    "\"Avrim Blum and Merrick Furst (1995, 1997) revitalized the field of planning with their GRAPHPLAN system, which was orders of magnitude faster than the partial-order planners of the time.\"**[\\[1\\]](#references)**\n",
    "\n",
    "The impact of GraphPlan in AI was specially in the domain of algorithm analysis and the development of many other planners like the BLACKBOX planner, which combines ideas from GRAPHPLAN and SATPLAN\n",
    "\n"
   ]
  },
  {
   "cell_type": "markdown",
   "metadata": {},
   "source": [
    "&nbsp;\n",
    "\n",
    "&nbsp;\n",
    "\n",
    "# Conclusion \n",
    "\n",
    "Planning research has been central to AI since its inception, and papers on planning are a staple of mainstream AI journals and conferences. There are also specialized conferences such as the International Conference on AI Planning Systems, the International Workshop on Planning and Scheduling for Space, and the European Conference on Planning."
   ]
  },
  {
   "cell_type": "markdown",
   "metadata": {},
   "source": [
    "# References\n",
    "\n",
    "[1] S.J. Russell and P Norvig, *Artificial Intelligence: A Modern Approach* (Prentice Hall, Englewood\n",
    "Cliffs, NJ, 2010) Third Edition. \n",
    "[2] R. E. Fikes and N. J Nilsson, *STRIPS: A New Approach to the Application of Theorem Proving to Problem Solving*. Link:http://ai.stanford.edu/~nilsson/OnlinePubs-Nils/PublishedPapers/strips.pdf\n",
    "[3] J. Hoffmann, *FF: The Fast-Forward Planning System*. Link: https://www.aaai.org/ojs/index.php/aimagazine/article/view/1572/1471\n",
    "[4] Wikipedia, *Graphplan*. Link: https://en.wikipedia.org/wiki/Graphplan"
   ]
  }
 ],
 "metadata": {
  "kernelspec": {
   "display_name": "Python 3",
   "language": "python",
   "name": "python3"
  },
  "language_info": {
   "codemirror_mode": {
    "name": "ipython",
    "version": 3
   },
   "file_extension": ".py",
   "mimetype": "text/x-python",
   "name": "python",
   "nbconvert_exporter": "python",
   "pygments_lexer": "ipython3",
   "version": "3.6.1"
  }
 },
 "nbformat": 4,
 "nbformat_minor": 2
}
